{
 "cells": [
  {
   "cell_type": "code",
   "execution_count": 18,
   "metadata": {},
   "outputs": [],
   "source": [
    "import librosa\n",
    "filename='powerplay.wav'\n",
    "x, sr = librosa.load(path+filename,sr=16000)"
   ]
  },
  {
   "cell_type": "code",
   "execution_count": 20,
   "metadata": {},
   "outputs": [],
   "source": [
    "max_slice=5\n",
    "window_length = max_slice * sr"
   ]
  },
  {
   "cell_type": "code",
   "execution_count": 22,
   "metadata": {},
   "outputs": [
    {
     "name": "stdout",
     "output_type": "stream",
     "text": [
      "16124.641480222366\n"
     ]
    }
   ],
   "source": [
    "energy = sum(abs(a**2))\n",
    "print(energy)"
   ]
  },
  {
   "cell_type": "code",
   "execution_count": 25,
   "metadata": {},
   "outputs": [],
   "source": [
    "import numpy as np\n",
    "energy = np.array([sum(abs(x[i:i+window_length]**2)) for i in range(0, len(x), window_length)])"
   ]
  },
  {
   "cell_type": "code",
   "execution_count": 28,
   "metadata": {},
   "outputs": [],
   "source": [
    "import pandas as pd\n",
    "df=pd.DataFrame(columns=['energy','start','end'])"
   ]
  },
  {
   "cell_type": "code",
   "execution_count": 29,
   "metadata": {
    "scrolled": true
   },
   "outputs": [],
   "source": [
    "thresh=12000\n",
    "row_index=0\n",
    "for i in range(len(energy)):\n",
    "    value=energy[i]\n",
    "    if(value>=thresh):\n",
    "        i=np.where(energy == value)[0]\n",
    "        df.loc[row_index,'energy']=value\n",
    "        df.loc[row_index,'start']=i[0] * 5\n",
    "        df.loc[row_index,'end']=(i[0]+1) * 5\n",
    "        row_index= row_index + 1"
   ]
  },
  {
   "cell_type": "code",
   "execution_count": 31,
   "metadata": {},
   "outputs": [],
   "source": [
    "temp=[]\n",
    "i=0\n",
    "j=0\n",
    "n=len(df) - 2\n",
    "m=len(df) - 1\n",
    "while(i<=n):\n",
    "    j=i+1\n",
    "    while(j<=m):\n",
    "        if(df['end'][i] == df['start'][j]):\n",
    "            df.loc[i,'end'] = df.loc[j,'end']\n",
    "            temp.append(j)\n",
    "            j=j+1\n",
    "        else:\n",
    "            i=j\n",
    "            break      "
   ]
  },
  {
   "cell_type": "code",
   "execution_count": 32,
   "metadata": {},
   "outputs": [],
   "source": [
    "df.drop(temp,axis=0,inplace=True)"
   ]
  },
  {
   "cell_type": "code",
   "execution_count": 34,
   "metadata": {},
   "outputs": [
    {
     "name": "stdout",
     "output_type": "stream",
     "text": [
      "Moviepy - Running:\n",
      ">>> \"+ \" \".join(cmd)\n",
      "Moviepy - Command successful\n",
      "Moviepy - Running:\n",
      ">>> \"+ \" \".join(cmd)\n",
      "Moviepy - Command successful\n",
      "Moviepy - Running:\n",
      ">>> \"+ \" \".join(cmd)\n",
      "Moviepy - Command successful\n",
      "Moviepy - Running:\n",
      ">>> \"+ \" \".join(cmd)\n",
      "Moviepy - Command successful\n",
      "Moviepy - Running:\n",
      ">>> \"+ \" \".join(cmd)\n",
      "Moviepy - Command successful\n",
      "Moviepy - Running:\n",
      ">>> \"+ \" \".join(cmd)\n",
      "Moviepy - Command successful\n",
      "Moviepy - Running:\n",
      ">>> \"+ \" \".join(cmd)\n",
      "Moviepy - Command successful\n",
      "Moviepy - Running:\n",
      ">>> \"+ \" \".join(cmd)\n",
      "Moviepy - Command successful\n",
      "Moviepy - Running:\n",
      ">>> \"+ \" \".join(cmd)\n",
      "Moviepy - Command successful\n",
      "Moviepy - Running:\n",
      ">>> \"+ \" \".join(cmd)\n",
      "Moviepy - Command successful\n",
      "Moviepy - Running:\n",
      ">>> \"+ \" \".join(cmd)\n",
      "Moviepy - Command successful\n"
     ]
    }
   ],
   "source": [
    "from moviepy.video.io.ffmpeg_tools import ffmpeg_extract_subclip\n",
    "start=np.array(df['start'])\n",
    "end=np.array(df['end'])\n",
    "for i in range(len(df)):\n",
    "    if(i!=0):\n",
    "        start_lim = start[i] - 5\n",
    "    else:\n",
    "        start_lim = start[i] \n",
    "    end_lim   = end[i]   \n",
    "    filename=\"F:\\work @av\\Cricket highlights generation\\cricket\\highlights\\cut\" + str(i+1) + \".mp4\"\n",
    "    ffmpeg_extract_subclip(path+\"powerplay.mp4\",start_lim,end_lim,targetname=filename)"
   ]
  }
 ],
 "metadata": {
  "kernelspec": {
   "display_name": "Python 3",
   "language": "python",
   "name": "python3"
  },
  "language_info": {
   "codemirror_mode": {
    "name": "ipython",
    "version": 3
   },
   "file_extension": ".py",
   "mimetype": "text/x-python",
   "name": "python",
   "nbconvert_exporter": "python",
   "pygments_lexer": "ipython3",
   "version": "3.7.8"
  }
 },
 "nbformat": 4,
 "nbformat_minor": 2
}
